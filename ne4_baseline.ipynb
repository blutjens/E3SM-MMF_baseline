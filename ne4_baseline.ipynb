{
 "cells": [
  {
   "cell_type": "code",
   "execution_count": 1,
   "id": "45f7e814-209a-41dd-b88b-f9e2567dd1ca",
   "metadata": {},
   "outputs": [
    {
     "name": "stderr",
     "output_type": "stream",
     "text": [
      "2023-05-09 18:02:09.313674: I tensorflow/core/platform/cpu_feature_guard.cc:193] This TensorFlow binary is optimized with oneAPI Deep Neural Network Library (oneDNN) to use the following CPU instructions in performance-critical operations:  SSE4.1 SSE4.2 AVX AVX2 FMA\n",
      "To enable them in other operations, rebuild TensorFlow with the appropriate compiler flags.\n"
     ]
    }
   ],
   "source": [
    "import xarray as xr\n",
    "import numpy as np\n",
    "import matplotlib.pyplot as plt\n",
    "import glob, os\n",
    "import random\n",
    "\n",
    "import tensorflow as tf\n",
    "from tensorflow import keras"
   ]
  },
  {
   "cell_type": "markdown",
   "id": "9af7ceb6-c59c-4e09-a6bd-4cb822ca6f2d",
   "metadata": {},
   "source": [
    "# Build data pipeline"
   ]
  },
  {
   "cell_type": "markdown",
   "id": "e0b7d0ff-6444-4fe3-bb0e-e7f49e54e55c",
   "metadata": {},
   "source": [
    "## input and output variable list\n",
    "- Note that ptend_t and ptend_q0001 are not in the output (mlo) netcdf files, but calculated real-time on a tf Dataset object.\n",
    "- Variable list: https://docs.google.com/spreadsheets/d/1ljRfHq6QB36u0TuoxQXcV4_DSQUR0X4UimZ4QHR8f9M/edit#gid=0"
   ]
  },
  {
   "cell_type": "code",
   "execution_count": 2,
   "id": "b81c38be-c62a-400c-99e5-0a254dc4bdc3",
   "metadata": {},
   "outputs": [],
   "source": [
    "# in/out variable lists\n",
    "vars_mli = ['state_t','state_q0001','state_ps','pbuf_SOLIN', 'pbuf_LHFLX', 'pbuf_SHFLX']\n",
    "vars_mlo = ['ptend_t','ptend_q0001','cam_out_NETSW','cam_out_FLWDS','cam_out_PRECSC','cam_out_PRECC','cam_out_SOLS','cam_out_SOLL','cam_out_SOLSD','cam_out_SOLLD']"
   ]
  },
  {
   "cell_type": "markdown",
   "id": "4732855b-ab01-4138-905b-c56c320b8e0f",
   "metadata": {},
   "source": [
    "## tf Dataset pipeline\n",
    "- ref: https://www.noahbrenowitz.com/post/loading_netcdfs/\n",
    "- ref: https://www.tensorflow.org/api_docs/python/tf/data/Dataset)"
   ]
  },
  {
   "cell_type": "code",
   "execution_count": 3,
   "id": "54137d82-57c4-46f6-bad4-b8aa2a8c9752",
   "metadata": {},
   "outputs": [],
   "source": [
    "mli_mean = xr.open_dataset('./norm_factors/mli_mean.nc')\n",
    "mli_min = xr.open_dataset('./norm_factors/mli_min.nc')\n",
    "mli_max = xr.open_dataset('./norm_factors/mli_max.nc')\n",
    "mlo_scale = xr.open_dataset('./norm_factors/mlo_scale.nc')\n",
    "\n",
    "def load_nc_dir_with_generator(filelist:list):\n",
    "    def gen():\n",
    "        for file in filelist:\n",
    "            \n",
    "            # read mli\n",
    "            ds = xr.open_dataset(file, engine='netcdf4')\n",
    "            ds = ds[vars_mli]\n",
    "            \n",
    "            # read mlo\n",
    "            dso = xr.open_dataset(file.replace('.mli.','.mlo.'), engine='netcdf4')\n",
    "            \n",
    "            # make mlo variales: ptend_t and ptend_q0001\n",
    "            dso['ptend_t'] = (dso['state_t'] - ds['state_t'])/1200 # T tendency [K/s]\n",
    "            dso['ptend_q0001'] = (dso['state_q0001'] - ds['state_q0001'])/1200 # Q tendency [kg/kg/s]\n",
    "            dso = dso[vars_mlo]\n",
    "            \n",
    "            # normalizatoin, scaling\n",
    "            ds = (ds-mli_mean)/(mli_max-mli_min)\n",
    "            dso = dso*mlo_scale\n",
    "\n",
    "            # stack\n",
    "            #ds = ds.stack({'batch':{'sample','ncol'}})\n",
    "            ds = ds.stack({'batch':{'ncol'}})\n",
    "            ds = ds.to_stacked_array(\"mlvar\", sample_dims=[\"batch\"], name='mli')\n",
    "            #dso = dso.stack({'batch':{'sample','ncol'}})\n",
    "            dso = dso.stack({'batch':{'ncol'}})\n",
    "            dso = dso.to_stacked_array(\"mlvar\", sample_dims=[\"batch\"], name='mlo')\n",
    "            \n",
    "            yield (ds.values, dso.values)\n",
    "\n",
    "    sample = next(iter(gen()))\n",
    "\n",
    "    return tf.data.Dataset.from_generator(\n",
    "        gen,\n",
    "        output_types=(tf.float64, tf.float64),\n",
    "        output_shapes=((None,124),(None,128))\n",
    "    )"
   ]
  },
  {
   "cell_type": "markdown",
   "id": "cff81df3-d60d-4b87-824b-da962936a1ea",
   "metadata": {},
   "source": [
    "## Instantiate tf.data.Dataset object here\n",
    "- Dataset file size and dimensions: https://docs.google.com/document/d/1HgfZZJM0SygjWvSAJ5kSfql9aXUFkvLybL36p-vmdZc/edit"
   ]
  },
  {
   "cell_type": "code",
   "execution_count": 6,
   "id": "b4a8551a-d5eb-40be-8d09-704f3e267d21",
   "metadata": {},
   "outputs": [
    {
     "name": "stdout",
     "output_type": "stream",
     "text": [
      "[TRAIN] Total # of input files: 360\n",
      "[TRAIN] Total # of columns (nfiles * ncols): 138240\n",
      "[VAL] Total # of input files: 360\n",
      "[VAL] Total # of columns (nfiles * ncols): 138240\n"
     ]
    }
   ],
   "source": [
    "# for training\n",
    "# First 5 days of each month for the first 6 years\n",
    "f_mli1 = glob.glob('/pscratch/sd/s/sungduk/hugging/E3SM-MMF_ne4/train/*/E3SM-MMF.mli.000[123456]-*-0[12345]-*.nc')\n",
    "f_mli2 = glob.glob('/pscratch/sd/s/sungduk/hugging/E3SM-MMF_ne4/train/*/E3SM-MMF.mli.0007-01-0[12345]-*.nc')\n",
    "f_mli = [*f_mli1, *f_mli2]\n",
    "f_mli = f_mli[0:72*5] # for debugging only\n",
    "random.shuffle(f_mli)\n",
    "print(f'[TRAIN] Total # of input files: {len(f_mli)}')\n",
    "print(f'[TRAIN] Total # of columns (nfiles * ncols): {len(f_mli)*384}')\n",
    "tds = load_nc_dir_with_generator(f_mli)\n",
    "\n",
    "# for validation\n",
    "# First 5 days of each month for the following 2 years\n",
    "f_mli1 = glob.glob('/pscratch/sd/s/sungduk/hugging/E3SM-MMF_ne4/train/*/E3SM-MMF.mli.0007-0[23456789]-0[12345]-*.nc')\n",
    "f_mli2 = glob.glob('/pscratch/sd/s/sungduk/hugging/E3SM-MMF_ne4/train/*/E3SM-MMF.mli.0007-1[012]-0[12345]-*.nc')\n",
    "f_mli3 = glob.glob('/pscratch/sd/s/sungduk/hugging/E3SM-MMF_ne4/train/*/E3SM-MMF.mli.000[89]-*-0[12345]-*.nc')\n",
    "f_mli = [*f_mli1, *f_mli2, *f_mli3]\n",
    "f_mli = f_mli[0:72*5] # for debugging only\n",
    "random.shuffle(f_mli)\n",
    "print(f'[VAL] Total # of input files: {len(f_mli)}')\n",
    "print(f'[VAL] Total # of columns (nfiles * ncols): {len(f_mli)*384}')\n",
    "tds_val = load_nc_dir_with_generator(f_mli)\n",
    "\n",
    "\n",
    "#list(tds)\n",
    "# for count_batch in tds.repeat().batch(10).take(1):\n",
    "#     print(count_batch[0].numpy())\n",
    "#count_batch[0].shape"
   ]
  },
  {
   "cell_type": "markdown",
   "id": "539d7811-186e-4c54-a0c7-f8ac7d909211",
   "metadata": {},
   "source": [
    "# ML traning\n",
    "- While 4 GPUs are available on the node, using multi GPUs (with 'tf.distribute.MirroredStrategy()' strategy) does not speed up training process."
   ]
  },
  {
   "cell_type": "code",
   "execution_count": 7,
   "id": "a060a60a-5cd7-41ed-8b8d-8b5d5fae4822",
   "metadata": {},
   "outputs": [
    {
     "data": {
      "text/plain": [
       "[PhysicalDevice(name='/physical_device:GPU:0', device_type='GPU'),\n",
       " PhysicalDevice(name='/physical_device:GPU:1', device_type='GPU'),\n",
       " PhysicalDevice(name='/physical_device:GPU:2', device_type='GPU'),\n",
       " PhysicalDevice(name='/physical_device:GPU:3', device_type='GPU')]"
      ]
     },
     "execution_count": 7,
     "metadata": {},
     "output_type": "execute_result"
    }
   ],
   "source": [
    "tf.config.list_physical_devices('GPU')"
   ]
  },
  {
   "cell_type": "code",
   "execution_count": 14,
   "id": "1b596ead-cc85-46b4-a185-f88d15145377",
   "metadata": {},
   "outputs": [
    {
     "name": "stdout",
     "output_type": "stream",
     "text": [
      "Model: \"Emulator\"\n",
      "__________________________________________________________________________________________________\n",
      " Layer (type)                   Output Shape         Param #     Connected to                     \n",
      "==================================================================================================\n",
      " input (InputLayer)             [(None, 124)]        0           []                               \n",
      "                                                                                                  \n",
      " dense_15 (Dense)               (None, 128)          16000       ['input[0][0]']                  \n",
      "                                                                                                  \n",
      " dense_16 (Dense)               (None, 128)          16512       ['dense_15[0][0]']               \n",
      "                                                                                                  \n",
      " dense_17 (Dense)               (None, 128)          16512       ['dense_16[0][0]']               \n",
      "                                                                                                  \n",
      " dense_18 (Dense)               (None, 120)          15480       ['dense_17[0][0]']               \n",
      "                                                                                                  \n",
      " dense_19 (Dense)               (None, 8)            1032        ['dense_17[0][0]']               \n",
      "                                                                                                  \n",
      " concatenate_3 (Concatenate)    (None, 128)          0           ['dense_18[0][0]',               \n",
      "                                                                  'dense_19[0][0]']               \n",
      "                                                                                                  \n",
      "==================================================================================================\n",
      "Total params: 65,536\n",
      "Trainable params: 65,536\n",
      "Non-trainable params: 0\n",
      "__________________________________________________________________________________________________\n"
     ]
    }
   ],
   "source": [
    "# strategy = tf.distribute.MirroredStrategy()\n",
    "# with strategy.scope():\n",
    "\n",
    "# model params\n",
    "input_length = 2*60 + 4\n",
    "output_length_lin  = 2*60\n",
    "output_length_relu = 8\n",
    "output_length = output_length_lin + output_length_relu\n",
    "n_nodes =128\n",
    "\n",
    "# constrcut a model\n",
    "input_layer    = keras.layers.Input(shape=(input_length,), name='input')\n",
    "hidden_0       = keras.layers.Dense(n_nodes, activation='relu')(input_layer)\n",
    "hidden_1       = keras.layers.Dense(n_nodes, activation='relu')(hidden_0)\n",
    "output_pre     = keras.layers.Dense(output_length, activation='elu')(hidden_1)\n",
    "output_lin     = keras.layers.Dense(output_length_lin,activation='linear')(output_pre)\n",
    "output_relu    = keras.layers.Dense(output_length_relu,activation='relu')(output_pre)\n",
    "output_layer   = keras.layers.Concatenate()([output_lin, output_relu])\n",
    "\n",
    "model = keras.Model(input_layer, output_layer, name='Emulator')\n",
    "model.summary()\n",
    "\n",
    "# compile\n",
    "model.compile(optimizer=keras.optimizers.Adam(), #optimizer=keras.optimizers.Adam(learning_rate=clr),\n",
    "              loss='mse',\n",
    "              metrics=['mse','mae','accuracy'])"
   ]
  },
  {
   "cell_type": "code",
   "execution_count": 15,
   "id": "ff819836-1665-4e2e-970e-6413b040ac7a",
   "metadata": {},
   "outputs": [
    {
     "name": "stdout",
     "output_type": "stream",
     "text": [
      "Epoch 1/5\n",
      "360/360 [==============================] - 45s 122ms/step - loss: 0.0072 - mse: 0.0072 - mae: 0.0371 - accuracy: 0.9602 - val_loss: 0.0081 - val_mse: 0.0081 - val_mae: 0.0424 - val_accuracy: 0.9673\n",
      "Epoch 2/5\n",
      "360/360 [==============================] - 44s 122ms/step - loss: 0.0054 - mse: 0.0054 - mae: 0.0304 - accuracy: 0.9723 - val_loss: 0.0084 - val_mse: 0.0084 - val_mae: 0.0420 - val_accuracy: 0.9696\n",
      "Epoch 3/5\n",
      "360/360 [==============================] - 44s 124ms/step - loss: 0.0052 - mse: 0.0052 - mae: 0.0292 - accuracy: 0.9738 - val_loss: 0.0084 - val_mse: 0.0084 - val_mae: 0.0417 - val_accuracy: 0.9693\n",
      "Epoch 4/5\n",
      "360/360 [==============================] - 44s 124ms/step - loss: 0.0050 - mse: 0.0050 - mae: 0.0285 - accuracy: 0.9744 - val_loss: 0.0083 - val_mse: 0.0083 - val_mae: 0.0410 - val_accuracy: 0.9695\n",
      "Epoch 5/5\n",
      "360/360 [==============================] - 44s 123ms/step - loss: 0.0050 - mse: 0.0050 - mae: 0.0280 - accuracy: 0.9747 - val_loss: 0.0082 - val_mse: 0.0082 - val_mae: 0.0406 - val_accuracy: 0.9694\n"
     ]
    },
    {
     "data": {
      "text/plain": [
       "<keras.callbacks.History at 0x7fa988290430>"
      ]
     },
     "execution_count": 15,
     "metadata": {},
     "output_type": "execute_result"
    }
   ],
   "source": [
    "# batch is automatically set at 384, which is #ncol.\n",
    "# to control batch size: use tf.data.Dataset.rebatch instead of batch_sizes option of fit method\n",
    "# (https://www.tensorflow.org/api_docs/python/tf/data/Dataset#rebatch)\n",
    "# e.g., model.fit(tds.rebatch(384*10), epochs=2)\n",
    "\n",
    "model.fit(tds, validation_data=tds_val, epochs=5)"
   ]
  },
  {
   "cell_type": "code",
   "execution_count": null,
   "id": "82880fe1-e7e5-4e39-b264-433616729f82",
   "metadata": {},
   "outputs": [],
   "source": []
  }
 ],
 "metadata": {
  "kernelspec": {
   "display_name": "myenv-tf_conda",
   "language": "python",
   "name": "myenv-tf_conda"
  },
  "language_info": {
   "codemirror_mode": {
    "name": "ipython",
    "version": 3
   },
   "file_extension": ".py",
   "mimetype": "text/x-python",
   "name": "python",
   "nbconvert_exporter": "python",
   "pygments_lexer": "ipython3",
   "version": "3.10.10"
  }
 },
 "nbformat": 4,
 "nbformat_minor": 5
}
